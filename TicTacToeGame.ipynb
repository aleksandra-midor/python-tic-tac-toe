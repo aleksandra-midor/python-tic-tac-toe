{
 "cells": [
  {
   "cell_type": "code",
   "execution_count": null,
   "metadata": {},
   "outputs": [],
   "source": [
    "# TIC-TAC-TOE GAME"
   ]
  },
  {
   "cell_type": "code",
   "execution_count": null,
   "metadata": {},
   "outputs": [],
   "source": [
    "# STEP 1\n",
    "\n",
    "board = ['#',' ',' ',' ',' ',' ',' ',' ',' ',' ']\n",
    "test_board = ['#','X','O','X','O','X','O','X','O','X']\n",
    "\n",
    "def display_board(data):\n",
    "    \n",
    "    row1 = f' {data[1]} | {data[2]} | {data[3]} '\n",
    "    row2 = f' {data[4]} | {data[5]} | {data[6]} '\n",
    "    row3 = f' {data[7]} | {data[8]} | {data[9]} '\n",
    "\n",
    "    row = ('   |   |   ')\n",
    "\n",
    "    line = ('-----------')\n",
    "\n",
    "\n",
    "    print(row)\n",
    "    print(row1)\n",
    "    print(row)\n",
    "    print(line)\n",
    "    print(row)\n",
    "    print(row2)\n",
    "    print(row)\n",
    "    print(line)\n",
    "    print(row)\n",
    "    print(row3)\n",
    "    print(row)"
   ]
  }
 ],
 "metadata": {
  "kernelspec": {
   "display_name": "Python 3",
   "language": "python",
   "name": "python3"
  },
  "language_info": {
   "codemirror_mode": {
    "name": "ipython",
    "version": 3
   },
   "file_extension": ".py",
   "mimetype": "text/x-python",
   "name": "python",
   "nbconvert_exporter": "python",
   "pygments_lexer": "ipython3",
   "version": "3.8.3"
  }
 },
 "nbformat": 4,
 "nbformat_minor": 4
}
