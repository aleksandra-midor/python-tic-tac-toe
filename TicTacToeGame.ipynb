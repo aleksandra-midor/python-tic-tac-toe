{
 "cells": [
  {
   "cell_type": "code",
   "execution_count": null,
   "metadata": {},
   "outputs": [],
   "source": [
    "# TIC-TAC-TOE GAME"
   ]
  },
  {
   "cell_type": "code",
   "execution_count": null,
   "metadata": {},
   "outputs": [],
   "source": [
    "# STEP 1\n",
    "\n",
    "board = ['#',' ',' ',' ',' ',' ',' ',' ',' ',' ']\n",
    "test_board = ['#','X','O','X','O','X','O','X','O','X']\n",
    "\n",
    "def display_board(data):\n",
    "    \n",
    "    row1 = f' {data[1]} | {data[2]} | {data[3]} '\n",
    "    row2 = f' {data[4]} | {data[5]} | {data[6]} '\n",
    "    row3 = f' {data[7]} | {data[8]} | {data[9]} '\n",
    "\n",
    "    row = ('   |   |   ')\n",
    "\n",
    "    line = ('-----------')\n",
    "\n",
    "\n",
    "    print(row)\n",
    "    print(row1)\n",
    "    print(row)\n",
    "    print(line)\n",
    "    print(row)\n",
    "    print(row2)\n",
    "    print(row)\n",
    "    print(line)\n",
    "    print(row)\n",
    "    print(row3)\n",
    "    print(row)"
   ]
  },
  {
   "cell_type": "code",
   "execution_count": null,
   "metadata": {},
   "outputs": [],
   "source": [
    "display_board(board)"
   ]
  },
  {
   "cell_type": "code",
   "execution_count": null,
   "metadata": {},
   "outputs": [],
   "source": [
    "# STEP 2\n",
    "\n",
    "def player_input():\n",
    "\n",
    "    choice = ' '\n",
    "    \n",
    "    while choice not in ['X','O']:\n",
    "        \n",
    "        choice = input(\"Please pick a marker 'X' or 'O'\")\n",
    "        \n",
    "        if choice not in ['X','O']:\n",
    "            print('Sorry, please choose either X or O')\n",
    "\n",
    "        else:\n",
    "            return choice"
   ]
  },
  {
   "cell_type": "code",
   "execution_count": null,
   "metadata": {},
   "outputs": [],
   "source": [
    "def change_player(choice):\n",
    "    if choice == 'X':\n",
    "        choice = 'O'\n",
    "    else:\n",
    "        choice = 'X'\n",
    "    \n",
    "    return choice"
   ]
  },
  {
   "cell_type": "code",
   "execution_count": null,
   "metadata": {},
   "outputs": [],
   "source": [
    "# STEP 3 \n",
    "position_changed = change_player(choice)"
   ]
  },
  {
   "cell_type": "code",
   "execution_count": null,
   "metadata": {},
   "outputs": [],
   "source": [
    "# STEP 3\n",
    "\n",
    "def place_marker(data, marker, position_changed):\n",
    "    data[position_changed] = marker"
   ]
  },
  {
   "cell_type": "code",
   "execution_count": null,
   "metadata": {},
   "outputs": [],
   "source": [
    "# STEP 4 \n",
    "\n",
    "def win_check(board, marker):\n",
    "    \n",
    "    win = False\n",
    "\n",
    "    if board[1] == marker and board[5] == marker and board[9] == marker: \n",
    "        win = True\n",
    "        print('Congratulation, you have won the game!!! :)')\n",
    "    elif board[3] == marker and board[5] == marker and board[7] == marker: \n",
    "        win = True\n",
    "        print('Congratulation, you have won the game!!! :)')\n",
    "    elif board[1] == marker and board[2] == marker and board[3] == marker: \n",
    "        win = True\n",
    "        print('Congratulation, you have won the game!!! :)')\n",
    "    elif board[4] == marker and board[5] == marker and board[6] == marker: \n",
    "        win = True\n",
    "        print('Congratulation, you have won the game!!! :)')\n",
    "    elif board[7] == marker and board[8] == marker and board[9] == marker: \n",
    "        win = True\n",
    "        print('Congratulation, you have won the game!!! :)')\n",
    "    elif board[1] == marker and board[4] == marker and board[7] == marker: \n",
    "        win = True\n",
    "        print('Congratulation, you have won the game!!! :)')\n",
    "    elif board[2] == marker and board[5] == marker and board[8] == marker: \n",
    "        win = True\n",
    "        print('Congratulation, you have won the game!!! :)')\n",
    "    elif board[3] == marker and board[6] == marker and board[9] == marker: \n",
    "        win = True\n",
    "        print('Congratulation, you have won the game!!! :)')\n",
    "    return win   "
   ]
  },
  {
   "cell_type": "code",
   "execution_count": null,
   "metadata": {},
   "outputs": [],
   "source": [
    "# STEP 5\n",
    "\n",
    "import random\n",
    "\n",
    "def choose_first():\n",
    "    \n",
    "    which_player = randint(1,2)\n",
    "    #return which_player\n",
    "\n",
    "    print(f'Player {which_player} will go first.')\n",
    "    return which_player"
   ]
  },
  {
   "cell_type": "code",
   "execution_count": null,
   "metadata": {},
   "outputs": [],
   "source": [
    "# STEP 6\n",
    "\n",
    "def space_check(board, position):\n",
    "    if board[position] == ' ':\n",
    "        return True\n",
    "    else:\n",
    "        return False"
   ]
  },
  {
   "cell_type": "code",
   "execution_count": null,
   "metadata": {},
   "outputs": [],
   "source": [
    "# STEP 7\n",
    "\n",
    "def full_board_check(board):\n",
    "    \n",
    "    is_full = True\n",
    "    \n",
    "    for item in range(len(board)):\n",
    "        if board[item] == ' ':\n",
    "            is_full = False\n",
    "            break\n",
    "    \n",
    "    return is_full"
   ]
  },
  {
   "cell_type": "code",
   "execution_count": null,
   "metadata": {},
   "outputs": [],
   "source": [
    "# STEP 8\n",
    "\n",
    "def player_choice(board):\n",
    "    \n",
    "    \n",
    "    positions = ['1','2','3','4','5','6','7','8','9']\n",
    "    position = 'wrong'\n",
    "    \n",
    "    while position not in positions:\n",
    "        \n",
    "        position = input('Please enter a number 1-9: ')\n",
    "        \n",
    "        if position not in positions:\n",
    "            print('Sorry, invalid choice! ')\n",
    "        \n",
    "        elif space_check(board, int(position)) == False:\n",
    "            position = 'wrong'\n",
    "            print('Choose another number!')\n",
    "            \n",
    "    return int(position)"
   ]
  },
  {
   "cell_type": "code",
   "execution_count": null,
   "metadata": {},
   "outputs": [],
   "source": [
    "# STEP 9\n",
    "\n",
    "def replay():\n",
    "    \n",
    "    answer = input('Do you want to play again? Answer YES or NO: ')\n",
    "    \n",
    "    if answer == 'YES':\n",
    "        return True\n",
    "    else:\n",
    "        return False"
   ]
  },
  {
   "cell_type": "code",
   "execution_count": null,
   "metadata": {},
   "outputs": [],
   "source": [
    "# STEP 10\n",
    "\n",
    "def game():\n",
    "    print('Welcome to Tic Tac Toe!')\n",
    "    \n",
    "    from IPython.display import clear_output\n",
    "    \n",
    "    board = ['#',' ',' ',' ',' ',' ',' ',' ',' ',' ']\n",
    "\n",
    "    marker = player_input()\n",
    "    \n",
    "    display_board(board)\n",
    "    \n",
    "    while full_board_check(board) == False:\n",
    "        \n",
    "        position_choice = player_choice(board)\n",
    "        \n",
    "        place_marker(board, marker, position_choice)\n",
    "\n",
    "        clear_output()\n",
    "        \n",
    "        display_board(board)\n",
    "        \n",
    "        if win_check(board, marker) == True:\n",
    "            break\n",
    "    \n",
    "        marker = change_player(marker)"
   ]
  }
 ],
 "metadata": {
  "kernelspec": {
   "display_name": "Python 3",
   "language": "python",
   "name": "python3"
  },
  "language_info": {
   "codemirror_mode": {
    "name": "ipython",
    "version": 3
   },
   "file_extension": ".py",
   "mimetype": "text/x-python",
   "name": "python",
   "nbconvert_exporter": "python",
   "pygments_lexer": "ipython3",
   "version": "3.8.3"
  }
 },
 "nbformat": 4,
 "nbformat_minor": 4
}